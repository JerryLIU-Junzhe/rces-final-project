{
 "cells": [
  {
   "cell_type": "markdown",
   "id": "1de31fd8-5463-4f16-8f84-b77dc0ef45d2",
   "metadata": {},
   "source": [
    "# RCES FInal Project"
   ]
  },
  {
   "cell_type": "code",
   "execution_count": 3,
   "id": "2849b415-434b-44d0-8fa7-b5fb9361e6e6",
   "metadata": {},
   "outputs": [],
   "source": [
    "h = 'hello'"
   ]
  },
  {
   "cell_type": "code",
   "execution_count": null,
   "id": "ad914f12-74f5-4281-a917-467df4ae0f4f",
   "metadata": {},
   "outputs": [],
   "source": []
  }
 ],
 "metadata": {
  "kernelspec": {
   "display_name": "Python 3 (ipykernel)",
   "language": "python",
   "name": "python3"
  },
  "language_info": {
   "codemirror_mode": {
    "name": "ipython",
    "version": 3
   },
   "file_extension": ".py",
   "mimetype": "text/x-python",
   "name": "python",
   "nbconvert_exporter": "python",
   "pygments_lexer": "ipython3",
   "version": "3.9.13"
  }
 },
 "nbformat": 4,
 "nbformat_minor": 5
}
